{
 "cells": [
  {
   "cell_type": "code",
   "execution_count": null,
   "id": "0f8865c0-a80b-4e39-bf92-8abf3a602a42",
   "metadata": {},
   "outputs": [],
   "source": []
  }
 ],
 "metadata": {
  "kernelspec": {
   "display_name": "Python 3 (ipykernel)",
   "language": "python",
   "name": "python3"
  },
  "language_info": {
   "name": ""
  }
 },
 "nbformat": 4,
 "nbformat_minor": 5
}
