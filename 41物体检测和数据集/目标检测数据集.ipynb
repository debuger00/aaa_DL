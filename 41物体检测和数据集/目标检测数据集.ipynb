{
 "cells": [
  {
   "cell_type": "code",
   "execution_count": 4,
   "metadata": {},
   "outputs": [],
   "source": [
    "%matplotlib inline\n",
    "import os\n",
    "import pandas as pd\n",
    "import torch\n",
    "import torchvision\n",
    "from d2l import torch as d2l"
   ]
  },
  {
   "cell_type": "code",
   "execution_count": 5,
   "metadata": {},
   "outputs": [],
   "source": [
    "d2l.DATA_HUB['banana-detection'] = (\n",
    "    d2l.DATA_URL + 'banana-detection.zip',\n",
    "    '5de26c8fce5ccdea9f91267273464dc968d20d72')"
   ]
  },
  {
   "cell_type": "code",
   "execution_count": 6,
   "metadata": {},
   "outputs": [],
   "source": [
    "# 读取香蕉检测数据集\n",
    "def read_data_bananas(is_train = True):\n",
    "    \"\"\"读取香蕉检测数据集中的图像和标签\"\"\"\n",
    "    data_dir = d2l.download_extract('banana-detection')\n",
    "    csv_fname = os.path.join(data_dir,\n",
    "                             'bananas_train' if is_train else 'bananas_val',\n",
    "                             'label.csv')\n",
    "    csv_data = pd.read_csv(csv_fname)\n",
    "    csv_data = csv_data.set_index('img_name')\n",
    "    images,targets = [],[]\n",
    "    for img_name,target in csv_data.iterrows():\n",
    "        images.append(\n",
    "            torchvision.io.read_image(\n",
    "                os.path.join(data_dir,\n",
    "                             'bananas_train' if is_train else 'bananas_val',\n",
    "                             'images',\n",
    "                             f'{img_name}')))\n",
    "        target.append(list(target))\n",
    "    return images,torch.tensor(target).unsqueeze(1)/256"
   ]
  },
  {
   "cell_type": "code",
   "execution_count": 7,
   "metadata": {},
   "outputs": [],
   "source": [
    "# 创建一个自定义的Dataset实例\n",
    "class BananasDataset(torch.utils.data.Dataset):\n",
    "    \"\"\"\"一个用于加载香蕉检测数据集的自定义数据集\"\"\"\n",
    "    def __init__(self,is_train):\n",
    "        self.features,self.labels = read_data_bananas(is_train)\n",
    "        print('read'+str(len(self.features))+\n",
    "              (f'trianing examples' if is_train else f'validation examples'))\n",
    "    def __getitem__(self,idx):\n",
    "        return (self.features[idx].float(),self.labels[idx])\n",
    "    def __len__(self):\n",
    "        return len(self.features)"
   ]
  }
 ],
 "metadata": {
  "kernelspec": {
   "display_name": "pytorch",
   "language": "python",
   "name": "python3"
  },
  "language_info": {
   "codemirror_mode": {
    "name": "ipython",
    "version": 3
   },
   "file_extension": ".py",
   "mimetype": "text/x-python",
   "name": "python",
   "nbconvert_exporter": "python",
   "pygments_lexer": "ipython3",
   "version": "3.9.19"
  }
 },
 "nbformat": 4,
 "nbformat_minor": 2
}
