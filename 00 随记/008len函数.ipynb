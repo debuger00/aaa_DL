{
 "cells": [
  {
   "cell_type": "code",
   "execution_count": 16,
   "metadata": {},
   "outputs": [],
   "source": [
    "import torch"
   ]
  },
  {
   "cell_type": "code",
   "execution_count": 17,
   "metadata": {},
   "outputs": [
    {
     "ename": "TypeError",
     "evalue": "len() of a 0-d tensor",
     "output_type": "error",
     "traceback": [
      "\u001b[1;31m---------------------------------------------------------------------------\u001b[0m",
      "\u001b[1;31mTypeError\u001b[0m                                 Traceback (most recent call last)",
      "Cell \u001b[1;32mIn[17], line 2\u001b[0m\n\u001b[0;32m      1\u001b[0m a \u001b[39m=\u001b[39m torch\u001b[39m.\u001b[39mtensor(\u001b[39m-\u001b[39m\u001b[39m1\u001b[39m)\u001b[39m#0维向量\u001b[39;00m\n\u001b[1;32m----> 2\u001b[0m \u001b[39mlen\u001b[39;49m(a)\n",
      "File \u001b[1;32md:\\anaconda\\envs\\pytorch\\lib\\site-packages\\torch\\_tensor.py:705\u001b[0m, in \u001b[0;36mTensor.__len__\u001b[1;34m(self)\u001b[0m\n\u001b[0;32m    703\u001b[0m     \u001b[39mreturn\u001b[39;00m handle_torch_function(Tensor\u001b[39m.\u001b[39m\u001b[39m__len__\u001b[39m, (\u001b[39mself\u001b[39m,), \u001b[39mself\u001b[39m)\n\u001b[0;32m    704\u001b[0m \u001b[39mif\u001b[39;00m \u001b[39mself\u001b[39m\u001b[39m.\u001b[39mdim() \u001b[39m==\u001b[39m \u001b[39m0\u001b[39m:\n\u001b[1;32m--> 705\u001b[0m     \u001b[39mraise\u001b[39;00m \u001b[39mTypeError\u001b[39;00m(\u001b[39m\"\u001b[39m\u001b[39mlen() of a 0-d tensor\u001b[39m\u001b[39m\"\u001b[39m)\n\u001b[0;32m    706\u001b[0m \u001b[39mif\u001b[39;00m torch\u001b[39m.\u001b[39m_C\u001b[39m.\u001b[39m_get_tracing_state():\n\u001b[0;32m    707\u001b[0m     warnings\u001b[39m.\u001b[39mwarn(\u001b[39m'\u001b[39m\u001b[39mUsing len to get tensor shape might cause the trace to be incorrect. \u001b[39m\u001b[39m'\u001b[39m\n\u001b[0;32m    708\u001b[0m                   \u001b[39m'\u001b[39m\u001b[39mRecommended usage would be tensor.shape[0]. \u001b[39m\u001b[39m'\u001b[39m\n\u001b[0;32m    709\u001b[0m                   \u001b[39m'\u001b[39m\u001b[39mPassing a tensor of different shape might lead to errors or silently give \u001b[39m\u001b[39m'\u001b[39m\n\u001b[0;32m    710\u001b[0m                   \u001b[39m'\u001b[39m\u001b[39mincorrect results.\u001b[39m\u001b[39m'\u001b[39m, category\u001b[39m=\u001b[39mtorch\u001b[39m.\u001b[39mjit\u001b[39m.\u001b[39mTracerWarning, stacklevel\u001b[39m=\u001b[39m\u001b[39m2\u001b[39m)\n",
      "\u001b[1;31mTypeError\u001b[0m: len() of a 0-d tensor"
     ]
    }
   ],
   "source": [
    "a = torch.tensor(-1)#0维向量\n",
    "len(a)"
   ]
  },
  {
   "cell_type": "code",
   "execution_count": 18,
   "metadata": {},
   "outputs": [
    {
     "name": "stdout",
     "output_type": "stream",
     "text": [
      "b= tensor([ 1, -1]) \t\tlen(b) 2 \tb.dim   1 \tb.shape torch.Size([2])\n",
      "c= tensor([[ 1, -1]]) \t\tlen(c) 1 \tc.dim   2 \tc.shape torch.Size([1, 2])\n",
      "d= tensor([[ 1],\n",
      "        [-1]]) \t\t\tlen(d) 2 \td.dim   2 \td.shape torch.Size([2, 1])\n"
     ]
    }
   ],
   "source": [
    "b = torch.tensor([1,-1])#2维向量 == [[1],[-1]]\n",
    "print('b=',b,'\\t\\tlen(b)',len(b),'\\tb.dim  ',b.dim(),'\\tb.shape',b.shape)\n",
    "c = torch.tensor([[1,-1]])\n",
    "print('c=',c,'\\t\\tlen(c)',len(c),'\\tc.dim  ',c.dim(),'\\tc.shape',c.shape)\n",
    "d = torch.tensor([[1],[-1]])\n",
    "print('d=',d,'\\t\\t\\tlen(d)',len(d),'\\td.dim  ',d.dim(),'\\td.shape',d.shape)"
   ]
  },
  {
   "cell_type": "code",
   "execution_count": 19,
   "metadata": {},
   "outputs": [
    {
     "name": "stdout",
     "output_type": "stream",
     "text": [
      "张量的维度数: 2\n",
      "张量形状中的最大数: 3\n"
     ]
    }
   ],
   "source": [
    "# 创建一个2D张量\n",
    "tensor_2d = torch.tensor([[1, 2, 3], [4, 5, 6]])\n",
    "\n",
    "# 打印张量的维度数和形状中的最大数\n",
    "print(\"张量的维度数:\", tensor_2d.dim())  # 输出 2\n",
    "print(\"张量形状中的最大数:\", max(tensor_2d.shape))  # 输出 3\n"
   ]
  },
  {
   "cell_type": "code",
   "execution_count": 23,
   "metadata": {},
   "outputs": [
    {
     "name": "stdout",
     "output_type": "stream",
     "text": [
      "tensor(-1) \t\t\t torch.Size([])\n",
      "tensor([ 1, -1]) \t\t\t torch.Size([2])\n",
      "tensor([[ 1, -1]]) \t\t\t torch.Size([1, 2])\n",
      "tensor([[ 1],\n",
      "        [-1]]) \t\t\t torch.Size([2, 1])\n"
     ]
    }
   ],
   "source": [
    "print(a,'\\t\\t\\t',a.shape)\n",
    "print(b,'\\t\\t\\t',b.shape)\n",
    "print(c,'\\t\\t\\t',c.shape)\n",
    "print(d,'\\t\\t\\t',d.shape)"
   ]
  },
  {
   "cell_type": "markdown",
   "metadata": {},
   "source": [
    "## 总结\n",
    "1. len(tensor) == tensor.shape[0] \n",
    "2. tensor.dim == len(tensor.shape)"
   ]
  }
 ],
 "metadata": {
  "kernelspec": {
   "display_name": "Python 3.9.19 ('pytorch')",
   "language": "python",
   "name": "python3"
  },
  "language_info": {
   "codemirror_mode": {
    "name": "ipython",
    "version": 3
   },
   "file_extension": ".py",
   "mimetype": "text/x-python",
   "name": "python",
   "nbconvert_exporter": "python",
   "pygments_lexer": "ipython3",
   "version": "3.9.19"
  },
  "orig_nbformat": 4,
  "vscode": {
   "interpreter": {
    "hash": "9ebf9cfd872009544a161647ac82c48f4cc096aba58631b69e515c7576d66293"
   }
  }
 },
 "nbformat": 4,
 "nbformat_minor": 2
}
