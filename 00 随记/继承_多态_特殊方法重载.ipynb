{
 "cells": [
  {
   "cell_type": "code",
   "execution_count": 5,
   "id": "1bf7d79f-8c1d-489f-99bb-367d18d615bd",
   "metadata": {},
   "outputs": [],
   "source": [
    "class Person:\n",
    "    def __init__(self,name,gender,age):\n",
    "        self.name=name\n",
    "        self.gender=gender\n",
    "        self.age=age\n",
    "    def displayPerson(self):\n",
    "        print(f'姓名：{self.name}性别：{self.gender}年龄：{self.age}')\n",
    "class Student(Person):\n",
    "    def __init__(self,name,gender,age,num,grade):\n",
    "        Person.__init__(self,name,gender,age)\n",
    "        self.num=num\n",
    "        self.grade=grade\n",
    "    def displayStudent(self):\n",
    "        print(f\"学号：{self.num}年纪：{self.grade}\")\n",
    "class CollegeStudent(Student):\n",
    "    def __init__(self,name,gender,age,num,grade,major):\n",
    "        Student.__init__(self,name,gender,age,num,grade)\n",
    "        self.major=major\n",
    "    def displayCollegeStudent():\n",
    "        print(f\"专业：{self.major}\")"
   ]
  },
  {
   "cell_type": "code",
   "execution_count": 6,
   "id": "955c0f4b-3ac9-4b58-bacc-69f1f9130a08",
   "metadata": {},
   "outputs": [
    {
     "ename": "AttributeError",
     "evalue": "type object 'Person' has no attribute 'init'",
     "output_type": "error",
     "traceback": [
      "\u001b[1;31m---------------------------------------------------------------------------\u001b[0m",
      "\u001b[1;31mAttributeError\u001b[0m                            Traceback (most recent call last)",
      "Cell \u001b[1;32mIn[6], line 1\u001b[0m\n\u001b[1;32m----> 1\u001b[0m ColStu1\u001b[38;5;241m=\u001b[39m\u001b[43mCollegeStudent\u001b[49m\u001b[43m(\u001b[49m\u001b[38;5;124;43m'\u001b[39;49m\u001b[38;5;124;43m王强\u001b[39;49m\u001b[38;5;124;43m'\u001b[39;49m\u001b[43m,\u001b[49m\u001b[38;5;124;43m'\u001b[39;49m\u001b[38;5;124;43m男\u001b[39;49m\u001b[38;5;124;43m'\u001b[39;49m\u001b[43m,\u001b[49m\u001b[38;5;241;43m20\u001b[39;49m\u001b[43m,\u001b[49m\u001b[38;5;124;43m'\u001b[39;49m\u001b[38;5;124;43m202026003119\u001b[39;49m\u001b[38;5;124;43m'\u001b[39;49m\u001b[43m,\u001b[49m\u001b[38;5;124;43m'\u001b[39;49m\u001b[38;5;124;43m大四\u001b[39;49m\u001b[38;5;124;43m'\u001b[39;49m\u001b[43m,\u001b[49m\u001b[38;5;124;43m'\u001b[39;49m\u001b[38;5;124;43m通信工程\u001b[39;49m\u001b[38;5;124;43m'\u001b[39;49m\u001b[43m)\u001b[49m\n",
      "Cell \u001b[1;32mIn[5], line 17\u001b[0m, in \u001b[0;36mCollegeStudent.__init__\u001b[1;34m(self, name, gender, age, num, grade, major)\u001b[0m\n\u001b[0;32m     16\u001b[0m \u001b[38;5;28;01mdef\u001b[39;00m \u001b[38;5;21m__init__\u001b[39m(\u001b[38;5;28mself\u001b[39m,name,gender,age,num,grade,major):\n\u001b[1;32m---> 17\u001b[0m     \u001b[43mStudent\u001b[49m\u001b[38;5;241;43m.\u001b[39;49m\u001b[38;5;21;43m__init__\u001b[39;49m\u001b[43m(\u001b[49m\u001b[38;5;28;43mself\u001b[39;49m\u001b[43m,\u001b[49m\u001b[43mname\u001b[49m\u001b[43m,\u001b[49m\u001b[43mgender\u001b[49m\u001b[43m,\u001b[49m\u001b[43mage\u001b[49m\u001b[43m,\u001b[49m\u001b[43mnum\u001b[49m\u001b[43m,\u001b[49m\u001b[43mgrade\u001b[49m\u001b[43m)\u001b[49m\n\u001b[0;32m     18\u001b[0m     \u001b[38;5;28mself\u001b[39m\u001b[38;5;241m.\u001b[39mmajor\u001b[38;5;241m=\u001b[39mmajor\n",
      "Cell \u001b[1;32mIn[5], line 10\u001b[0m, in \u001b[0;36mStudent.__init__\u001b[1;34m(self, name, gender, age, num, grade)\u001b[0m\n\u001b[0;32m      9\u001b[0m \u001b[38;5;28;01mdef\u001b[39;00m \u001b[38;5;21m__init__\u001b[39m(\u001b[38;5;28mself\u001b[39m,name,gender,age,num,grade):\n\u001b[1;32m---> 10\u001b[0m     \u001b[43mPerson\u001b[49m\u001b[38;5;241;43m.\u001b[39;49m\u001b[43minit\u001b[49m(\u001b[38;5;28mself\u001b[39m,name,gender,age)\n\u001b[0;32m     11\u001b[0m     \u001b[38;5;28mself\u001b[39m\u001b[38;5;241m.\u001b[39mnum\u001b[38;5;241m=\u001b[39mnum\n\u001b[0;32m     12\u001b[0m     \u001b[38;5;28mself\u001b[39m\u001b[38;5;241m.\u001b[39mgrade\u001b[38;5;241m=\u001b[39mgrade\n",
      "\u001b[1;31mAttributeError\u001b[0m: type object 'Person' has no attribute 'init'"
     ]
    }
   ],
   "source": [
    "ColStu1=CollegeStudent('王强','男',20,'202026003119','大四','通信工程')"
   ]
  }
 ],
 "metadata": {
  "kernelspec": {
   "display_name": "pytorch",
   "language": "python",
   "name": "pytorch"
  },
  "language_info": {
   "codemirror_mode": {
    "name": "ipython",
    "version": 3
   },
   "file_extension": ".py",
   "mimetype": "text/x-python",
   "name": "python",
   "nbconvert_exporter": "python",
   "pygments_lexer": "ipython3",
   "version": "3.9.19"
  }
 },
 "nbformat": 4,
 "nbformat_minor": 5
}
