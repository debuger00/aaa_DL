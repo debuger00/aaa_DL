{
 "cells": [
  {
   "cell_type": "code",
   "execution_count": 2,
   "metadata": {},
   "outputs": [
    {
     "name": "stdout",
     "output_type": "stream",
     "text": [
      "[1, 2, 3, 4, 5]\n"
     ]
    }
   ],
   "source": [
    "numbers = [1,2,3,4,5]\n",
    "first = numbers\n",
    "print(first)"
   ]
  },
  {
   "cell_type": "code",
   "execution_count": 5,
   "metadata": {},
   "outputs": [
    {
     "name": "stdout",
     "output_type": "stream",
     "text": [
      "1\n",
      "[2, 3, 4, 5]\n",
      "1\n",
      "2\n",
      "3\n",
      "4\n",
      "a=1\n",
      "b=2\n",
      "c=3\n"
     ]
    }
   ],
   "source": [
    "#赋值语句左边*是打包\n",
    "first,*rest = numbers\n",
    "print(first)\n",
    "print(rest)\n",
    "\n",
    "def print_value(*args):\n",
    "    for arg in args:\n",
    "        print(arg)\n",
    "\n",
    "print_value(1,2,3,4)\n",
    "\n",
    "def example(**kwargs):\n",
    "    for key,value in kwargs.items():\n",
    "        print(f'{key}={value}')\n",
    "example(a=1,b=2,c=3)"
   ]
  },
  {
   "cell_type": "code",
   "execution_count": 8,
   "metadata": {},
   "outputs": [
    {
     "name": "stdout",
     "output_type": "stream",
     "text": [
      "helloAlice,you are30 years old.\n"
     ]
    },
    {
     "ename": "TypeError",
     "evalue": "greet() got an unexpected keyword argument 'Bob'",
     "output_type": "error",
     "traceback": [
      "\u001b[1;31m---------------------------------------------------------------------------\u001b[0m",
      "\u001b[1;31mTypeError\u001b[0m                                 Traceback (most recent call last)",
      "Cell \u001b[1;32mIn[8], line 9\u001b[0m\n\u001b[0;32m      6\u001b[0m greet(\u001b[39m*\u001b[39mperson1)\n\u001b[0;32m      8\u001b[0m person2 \u001b[39m=\u001b[39m {\u001b[39m'\u001b[39m\u001b[39mBob\u001b[39m\u001b[39m'\u001b[39m:\u001b[39m20\u001b[39m}\n\u001b[1;32m----> 9\u001b[0m greet(\u001b[39m*\u001b[39m\u001b[39m*\u001b[39mperson2)\n",
      "\u001b[1;31mTypeError\u001b[0m: greet() got an unexpected keyword argument 'Bob'"
     ]
    }
   ],
   "source": [
    "#赋值语句右边*是解包\n",
    "def greet(name,age):\n",
    "    print(f'hello{name},you are{age} years old.')\n",
    "\n",
    "person1 = ('Alice',30)\n",
    "greet(*person1)\n",
    "\n",
    "person2 = {'Bob':20}\n",
    "greet(**person2)\n",
    "\n"
   ]
  },
  {
   "cell_type": "code",
   "execution_count": 12,
   "metadata": {},
   "outputs": [
    {
     "ename": "NameError",
     "evalue": "name 'Bob' is not defined",
     "output_type": "error",
     "traceback": [
      "\u001b[1;31m---------------------------------------------------------------------------\u001b[0m",
      "\u001b[1;31mNameError\u001b[0m                                 Traceback (most recent call last)",
      "Cell \u001b[1;32mIn[12], line 1\u001b[0m\n\u001b[1;32m----> 1\u001b[0m person3\u001b[39m=\u001b[39m{\u001b[39m'\u001b[39m\u001b[39mname\u001b[39m\u001b[39m'\u001b[39m:Bob,\u001b[39m'\u001b[39m\u001b[39mage\u001b[39m\u001b[39m'\u001b[39m:\u001b[39m20\u001b[39m}\n\u001b[0;32m      2\u001b[0m greet(person3)\n",
      "\u001b[1;31mNameError\u001b[0m: name 'Bob' is not defined"
     ]
    }
   ],
   "source": [
    "person3={'name':Bob,'age':20}\n",
    "greet(person3)"
   ]
  },
  {
   "cell_type": "code",
   "execution_count": 11,
   "metadata": {},
   "outputs": [
    {
     "name": "stdout",
     "output_type": "stream",
     "text": [
      "helloBob,you are20 years old.\n"
     ]
    }
   ],
   "source": [
    "person3 = {'name':'Bob','age':20}\n",
    "greet(**person3)"
   ]
  }
 ],
 "metadata": {
  "kernelspec": {
   "display_name": "Python 3.9.19 ('pytorch')",
   "language": "python",
   "name": "python3"
  },
  "language_info": {
   "codemirror_mode": {
    "name": "ipython",
    "version": 3
   },
   "file_extension": ".py",
   "mimetype": "text/x-python",
   "name": "python",
   "nbconvert_exporter": "python",
   "pygments_lexer": "ipython3",
   "version": "3.9.19"
  },
  "orig_nbformat": 4,
  "vscode": {
   "interpreter": {
    "hash": "9ebf9cfd872009544a161647ac82c48f4cc096aba58631b69e515c7576d66293"
   }
  }
 },
 "nbformat": 4,
 "nbformat_minor": 2
}
