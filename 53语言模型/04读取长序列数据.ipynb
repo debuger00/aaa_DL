{
 "cells": [
  {
   "cell_type": "code",
   "execution_count": 1,
   "metadata": {},
   "outputs": [],
   "source": [
    "import torch\n",
    "import random"
   ]
  },
  {
   "cell_type": "code",
   "execution_count": 2,
   "metadata": {},
   "outputs": [],
   "source": [
    "def seq_data_iter_random(corpus,batch_size,num_steps):\n",
    "    \"\"\"\n",
    "        使用随记抽样生成一个小批量的子序列\n",
    "    \"\"\"\n",
    "    corpus = corpus[random.randint(0,num_steps-1):]#从随机偏移量开始对序列进行分区，随机范围包括num_steps-1\n",
    "\n",
    "    num_subseqs = (len(corpus)-1)//num_steps    #减去一，是因为需要考虑到标签Y,样本数，总(X-Y)(feature-labels)对数\n",
    "    \n",
    "    initial_indices = list(range(0,num_steps*num_subseqs,num_steps))#特定的时间步\n",
    "    random.shuffle(initial_indices)  #随机取样的过程中，来自两个相邻的子序列不一定再原始序列中响铃\n",
    "    \n",
    "    def data(pos):\n",
    "        return corpus[pos:(pos+num_steps)]  \n",
    "    num_batches = num_subseqs // batch_size  # num_baches 表示以batch_size大小取，可以取多少次小批量\n",
    "    for i in range(0,batch_size*num_batches,batch_size):\n",
    "        initial_indices_per_batch = initial_indices[i:i+batch_size]\n",
    "        X = [data(j) for  j in initial_indices_per_batch]\n",
    "        Y = [data(j+1) for j in initial_indices_per_batch]\n",
    "        yield torch.tensor(X),torch.tensor(Y)"
   ]
  },
  {
   "cell_type": "code",
   "execution_count": 3,
   "metadata": {},
   "outputs": [
    {
     "name": "stdout",
     "output_type": "stream",
     "text": [
      "X: tensor([[26, 27, 28, 29, 30],\n",
      "        [ 1,  2,  3,  4,  5]]) \n",
      "Y: tensor([[27, 28, 29, 30, 31],\n",
      "        [ 2,  3,  4,  5,  6]])\n",
      "X: tensor([[ 6,  7,  8,  9, 10],\n",
      "        [16, 17, 18, 19, 20]]) \n",
      "Y: tensor([[ 7,  8,  9, 10, 11],\n",
      "        [17, 18, 19, 20, 21]])\n",
      "X: tensor([[11, 12, 13, 14, 15],\n",
      "        [21, 22, 23, 24, 25]]) \n",
      "Y: tensor([[12, 13, 14, 15, 16],\n",
      "        [22, 23, 24, 25, 26]])\n"
     ]
    }
   ],
   "source": [
    "#使用上一代码块的  随记抽样序列的迭代器\n",
    "my_seqs = list(range(35))\n",
    "for X,Y in seq_data_iter_random(my_seqs,2,5):\n",
    "    print(\"X:\",X,\"\\nY:\",Y)"
   ]
  },
  {
   "cell_type": "code",
   "execution_count": null,
   "metadata": {},
   "outputs": [],
   "source": []
  }
 ],
 "metadata": {
  "kernelspec": {
   "display_name": "pytorch",
   "language": "python",
   "name": "pytorch"
  },
  "language_info": {
   "codemirror_mode": {
    "name": "ipython",
    "version": 3
   },
   "file_extension": ".py",
   "mimetype": "text/x-python",
   "name": "python",
   "nbconvert_exporter": "python",
   "pygments_lexer": "ipython3",
   "version": "3.9.19"
  }
 },
 "nbformat": 4,
 "nbformat_minor": 2
}
