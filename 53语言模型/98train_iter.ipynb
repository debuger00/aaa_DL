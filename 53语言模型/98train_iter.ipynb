{
 "cells": [
  {
   "cell_type": "code",
   "execution_count": 1,
   "metadata": {},
   "outputs": [],
   "source": [
    "%matplotlib inline\n",
    "import math\n",
    "import torch\n",
    "from torch import nn\n",
    "from torch.nn import functional as F\n",
    "from d2l import torch as d2l"
   ]
  },
  {
   "cell_type": "code",
   "execution_count": 2,
   "metadata": {},
   "outputs": [],
   "source": [
    "batch_size,num_steps = 32,35\n",
    "train_iter,vocab = d2l.load_data_time_machine(batch_size,num_steps)# 小批量的形状是(批量大小，时间步数)"
   ]
  },
  {
   "cell_type": "code",
   "execution_count": 3,
   "metadata": {},
   "outputs": [
    {
     "name": "stdout",
     "output_type": "stream",
     "text": [
      "<d2l.torch.SeqDataLoader object at 0x0000018BD4652310>\n"
     ]
    }
   ],
   "source": [
    "print(train_iter)"
   ]
  },
  {
   "cell_type": "code",
   "execution_count": 4,
   "metadata": {},
   "outputs": [
    {
     "name": "stdout",
     "output_type": "stream",
     "text": [
      "<class 'd2l.torch.SeqDataLoader'>\n"
     ]
    }
   ],
   "source": [
    "print(type(train_iter))"
   ]
  },
  {
   "cell_type": "code",
   "execution_count": 11,
   "metadata": {},
   "outputs": [
    {
     "name": "stdout",
     "output_type": "stream",
     "text": [
      "tensor(2) e,tensor(1)  ,tensor(13) m,tensor(4) a,tensor(15) c,tensor(9) h,tensor(5) i,tensor(6) n,tensor(2) e,tensor(1)  ,tensor(21) b,tensor(19) y,tensor(1)  ,tensor(9) h,tensor(1)  ,tensor(18) g,tensor(1)  ,tensor(17) w,tensor(2) e,tensor(12) l,tensor(12) l,tensor(8) s,tensor(5) i,tensor(3) t,tensor(9) h,tensor(2) e,tensor(1)  ,tensor(3) t,tensor(5) i,tensor(13) m,tensor(2) e,tensor(1)  ,tensor(3) t,tensor(10) r,tensor(4) a,\n",
      "\n",
      "e machine by h g wellsithe time tratensor(3) t,tensor(9) h,tensor(2) e,tensor(1)  ,tensor(21) b,tensor(14) u,tensor(21) b,tensor(21) b,tensor(12) l,tensor(2) e,tensor(8) s,tensor(1)  ,tensor(3) t,tensor(9) h,tensor(4) a,tensor(3) t,tensor(1)  ,tensor(16) f,tensor(12) l,tensor(4) a,tensor(8) s,tensor(9) h,tensor(2) e,tensor(11) d,tensor(1)  ,tensor(4) a,tensor(6) n,tensor(11) d,tensor(20) p,tensor(4) a,tensor(8) s,tensor(8) s,tensor(2) e,tensor(11) d,tensor(1)  ,\n",
      "\n",
      "the bubbles that flashed andpassed tensor(12) l,tensor(2) e,tensor(4) a,tensor(6) n,tensor(1)  ,tensor(16) f,tensor(7) o,tensor(10) r,tensor(2) e,tensor(16) f,tensor(5) i,tensor(6) n,tensor(18) g,tensor(2) e,tensor(10) r,tensor(1)  ,tensor(4) a,tensor(8) s,tensor(1)  ,tensor(17) w,tensor(2) e,tensor(1)  ,tensor(8) s,tensor(4) a,tensor(3) t,tensor(1)  ,tensor(4) a,tensor(6) n,tensor(11) d,tensor(1)  ,tensor(12) l,tensor(4) a,tensor(25) z,tensor(5) i,tensor(12) l,\n",
      "\n",
      "lean forefinger as we sat and laziltensor(9) h,tensor(4) a,tensor(3) t,tensor(1)  ,tensor(10) r,tensor(4) a,tensor(3) t,tensor(9) h,tensor(2) e,tensor(10) r,tensor(1)  ,tensor(4) a,tensor(1)  ,tensor(12) l,tensor(4) a,tensor(10) r,tensor(18) g,tensor(2) e,tensor(1)  ,tensor(3) t,tensor(9) h,tensor(5) i,tensor(6) n,tensor(18) g,tensor(1)  ,tensor(3) t,tensor(7) o,tensor(1)  ,tensor(2) e,tensor(24) x,tensor(20) p,tensor(2) e,tensor(15) c,tensor(3) t,tensor(1)  ,\n",
      "\n",
      "hat rather a large thing to expect tensor(2) e,tensor(19) y,tensor(1)  ,tensor(3) t,tensor(4) a,tensor(14) u,tensor(18) g,tensor(9) h,tensor(3) t,tensor(1)  ,tensor(19) y,tensor(7) o,tensor(14) u,tensor(1)  ,tensor(3) t,tensor(9) h,tensor(4) a,tensor(3) t,tensor(1)  ,tensor(6) n,tensor(2) e,tensor(5) i,tensor(3) t,tensor(9) h,tensor(2) e,tensor(10) r,tensor(1)  ,tensor(9) h,tensor(4) a,tensor(8) s,tensor(1)  ,tensor(4) a,tensor(13) m,tensor(4) a,tensor(3) t,\n",
      "\n",
      "ey taught you that neither has amattensor(15) c,tensor(4) a,tensor(6) n,tensor(1)  ,tensor(4) a,tensor(6) n,tensor(1)  ,tensor(5) i,tensor(6) n,tensor(8) s,tensor(3) t,tensor(4) a,tensor(6) n,tensor(3) t,tensor(4) a,tensor(6) n,tensor(2) e,tensor(7) o,tensor(14) u,tensor(8) s,tensor(15) c,tensor(14) u,tensor(21) b,tensor(2) e,tensor(1)  ,tensor(2) e,tensor(24) x,tensor(5) i,tensor(8) s,tensor(3) t,tensor(11) d,tensor(7) o,tensor(6) n,tensor(1)  ,tensor(3) t,\n",
      "\n",
      "can an instantaneouscube existdon ttensor(10) r,tensor(13) m,tensor(5) i,tensor(3) t,tensor(19) y,tensor(1)  ,tensor(7) o,tensor(16) f,tensor(1)  ,tensor(3) t,tensor(9) h,tensor(2) e,tensor(1)  ,tensor(16) f,tensor(12) l,tensor(2) e,tensor(8) s,tensor(9) h,tensor(1)  ,tensor(17) w,tensor(9) h,tensor(5) i,tensor(15) c,tensor(9) h,tensor(1)  ,tensor(5) i,tensor(1)  ,tensor(17) w,tensor(5) i,tensor(12) l,tensor(12) l,tensor(1)  ,tensor(2) e,tensor(24) x,tensor(20) p,\n",
      "\n",
      "rmity of the flesh which i will exptensor(1)  ,tensor(3) t,tensor(9) h,tensor(4) a,tensor(3) t,tensor(7) o,tensor(14) u,tensor(10) r,tensor(1)  ,tensor(15) c,tensor(7) o,tensor(6) n,tensor(8) s,tensor(15) c,tensor(5) i,tensor(7) o,tensor(14) u,tensor(8) s,tensor(6) n,tensor(2) e,tensor(8) s,tensor(8) s,tensor(1)  ,tensor(13) m,tensor(7) o,tensor(22) v,tensor(2) e,tensor(8) s,tensor(1)  ,tensor(5) i,tensor(6) n,tensor(3) t,tensor(2) e,tensor(10) r,tensor(13) m,\n",
      "\n",
      " thatour consciousness moves intermtensor(4) a,tensor(22) v,tensor(2) e,tensor(12) l,tensor(12) l,tensor(2) e,tensor(10) r,tensor(1)  ,tensor(17) w,tensor(5) i,tensor(3) t,tensor(9) h,tensor(1)  ,tensor(4) a,tensor(1)  ,tensor(8) s,tensor(12) l,tensor(5) i,tensor(18) g,tensor(9) h,tensor(3) t,tensor(1)  ,tensor(4) a,tensor(15) c,tensor(15) c,tensor(2) e,tensor(8) s,tensor(8) s,tensor(5) i,tensor(7) o,tensor(6) n,tensor(1)  ,tensor(7) o,tensor(16) f,tensor(15) c,\n",
      "\n",
      "aveller with a slight accession ofctensor(7) o,tensor(6) n,tensor(8) s,tensor(15) c,tensor(5) i,tensor(7) o,tensor(14) u,tensor(8) s,tensor(6) n,tensor(2) e,tensor(8) s,tensor(8) s,tensor(1)  ,tensor(13) m,tensor(7) o,tensor(22) v,tensor(2) e,tensor(8) s,tensor(1)  ,tensor(4) a,tensor(12) l,tensor(7) o,tensor(6) n,tensor(18) g,tensor(1)  ,tensor(5) i,tensor(3) t,tensor(1)  ,tensor(21) b,tensor(14) u,tensor(3) t,tensor(1)  ,tensor(8) s,tensor(7) o,tensor(13) m,\n",
      "\n",
      "onsciousness moves along it but somtensor(4) a,tensor(12) l,tensor(12) l,tensor(1)  ,tensor(12) l,tensor(2) e,tensor(6) n,tensor(18) g,tensor(3) t,tensor(9) h,tensor(21) b,tensor(10) r,tensor(2) e,tensor(4) a,tensor(11) d,tensor(3) t,tensor(9) h,tensor(1)  ,tensor(4) a,tensor(6) n,tensor(11) d,tensor(1)  ,tensor(3) t,tensor(9) h,tensor(5) i,tensor(15) c,tensor(23) k,tensor(6) n,tensor(2) e,tensor(8) s,tensor(8) s,tensor(1)  ,tensor(4) a,tensor(6) n,tensor(11) d,\n",
      "\n",
      "all lengthbreadth and thickness andtensor(2) e,tensor(3) t,tensor(10) r,tensor(19) y,tensor(20) p,tensor(10) r,tensor(7) o,tensor(16) f,tensor(2) e,tensor(8) s,tensor(8) s,tensor(7) o,tensor(10) r,tensor(1)  ,tensor(8) s,tensor(5) i,tensor(13) m,tensor(7) o,tensor(6) n,tensor(1)  ,tensor(6) n,tensor(2) e,tensor(17) w,tensor(15) c,tensor(7) o,tensor(13) m,tensor(21) b,tensor(1)  ,tensor(17) w,tensor(4) a,tensor(8) s,tensor(1)  ,tensor(2) e,tensor(24) x,tensor(20) p,\n",
      "\n",
      "etryprofessor simon newcomb was exptensor(1)  ,tensor(5) i,tensor(16) f,tensor(1)  ,tensor(3) t,tensor(9) h,tensor(2) e,tensor(19) y,tensor(1)  ,tensor(15) c,tensor(7) o,tensor(14) u,tensor(12) l,tensor(11) d,tensor(13) m,tensor(4) a,tensor(8) s,tensor(3) t,tensor(2) e,tensor(10) r,tensor(1)  ,tensor(3) t,tensor(9) h,tensor(2) e,tensor(1)  ,tensor(20) p,tensor(2) e,tensor(10) r,tensor(8) s,tensor(20) p,tensor(2) e,tensor(15) c,tensor(3) t,tensor(5) i,tensor(22) v,\n",
      "\n",
      " if they couldmaster the perspectivtensor(5) i,tensor(6) n,tensor(18) g,tensor(1)  ,tensor(19) y,tensor(7) o,tensor(14) u,tensor(1)  ,tensor(5) i,tensor(1)  ,tensor(9) h,tensor(4) a,tensor(22) v,tensor(2) e,tensor(1)  ,tensor(21) b,tensor(2) e,tensor(2) e,tensor(6) n,tensor(1)  ,tensor(4) a,tensor(3) t,tensor(1)  ,tensor(17) w,tensor(7) o,tensor(10) r,tensor(23) k,tensor(1)  ,tensor(14) u,tensor(20) p,tensor(7) o,tensor(6) n,tensor(1)  ,tensor(3) t,tensor(9) h,\n",
      "\n",
      "ing you i have been at work upon thtensor(3) t,tensor(5) i,tensor(7) o,tensor(6) n,tensor(8) s,tensor(1)  ,tensor(7) o,tensor(16) f,tensor(1)  ,tensor(9) h,tensor(5) i,tensor(8) s,tensor(1)  ,tensor(16) f,tensor(7) o,tensor(14) u,tensor(10) r,tensor(1)  ,tensor(11) d,tensor(5) i,tensor(13) m,tensor(2) e,tensor(6) n,tensor(8) s,tensor(5) i,tensor(7) o,tensor(6) n,tensor(2) e,tensor(11) d,tensor(21) b,tensor(2) e,tensor(5) i,tensor(6) n,tensor(18) g,tensor(1)  ,\n",
      "\n",
      "tions of his four dimensionedbeing tensor(10) r,tensor(1)  ,tensor(8) s,tensor(9) h,tensor(7) o,tensor(17) w,tensor(8) s,tensor(1)  ,tensor(3) t,tensor(9) h,tensor(2) e,tensor(13) m,tensor(7) o,tensor(22) v,tensor(2) e,tensor(13) m,tensor(2) e,tensor(6) n,tensor(3) t,tensor(1)  ,tensor(7) o,tensor(16) f,tensor(1)  ,tensor(3) t,tensor(9) h,tensor(2) e,tensor(1)  ,tensor(21) b,tensor(4) a,tensor(10) r,tensor(7) o,tensor(13) m,tensor(2) e,tensor(3) t,tensor(2) e,\n",
      "\n",
      "r shows themovement of the barometetensor(15) c,tensor(12) l,tensor(14) u,tensor(11) d,tensor(2) e,tensor(1)  ,tensor(17) w,tensor(4) a,tensor(8) s,tensor(1)  ,tensor(4) a,tensor(12) l,tensor(7) o,tensor(6) n,tensor(18) g,tensor(3) t,tensor(9) h,tensor(2) e,tensor(1)  ,tensor(3) t,tensor(5) i,tensor(13) m,tensor(2) e,tensor(1)  ,tensor(11) d,tensor(5) i,tensor(13) m,tensor(2) e,tensor(6) n,tensor(8) s,tensor(5) i,tensor(7) o,tensor(6) n,tensor(21) b,tensor(14) u,\n",
      "\n",
      "clude was alongthe time dimensionbutensor(12) l,tensor(2) e,tensor(11) d,tensor(1)  ,tensor(4) a,tensor(10) r,tensor(2) e,tensor(1)  ,tensor(19) y,tensor(7) o,tensor(14) u,tensor(1)  ,tensor(8) s,tensor(14) u,tensor(10) r,tensor(2) e,tensor(1)  ,tensor(17) w,tensor(2) e,tensor(1)  ,tensor(15) c,tensor(4) a,tensor(6) n,tensor(1)  ,tensor(13) m,tensor(7) o,tensor(22) v,tensor(2) e,tensor(1)  ,tensor(16) f,tensor(10) r,tensor(2) e,tensor(2) e,tensor(12) l,tensor(19) y,\n",
      "\n",
      "led are you sure we can move freelytensor(13) m,tensor(7) o,tensor(11) d,tensor(5) i,tensor(15) c,tensor(1)  ,tensor(26) j,tensor(14) u,tensor(13) m,tensor(20) p,tensor(5) i,tensor(6) n,tensor(18) g,tensor(1)  ,tensor(4) a,tensor(6) n,tensor(11) d,tensor(1)  ,tensor(3) t,tensor(9) h,tensor(2) e,tensor(5) i,tensor(6) n,tensor(2) e,tensor(27) q,tensor(14) u,tensor(4) a,tensor(12) l,tensor(5) i,tensor(3) t,tensor(5) i,tensor(2) e,tensor(8) s,tensor(1)  ,tensor(7) o,\n",
      "\n",
      "modic jumping and theinequalities otensor(8) s,tensor(3) t,tensor(1)  ,tensor(17) w,tensor(9) h,tensor(2) e,tensor(10) r,tensor(2) e,tensor(3) t,tensor(9) h,tensor(2) e,tensor(1)  ,tensor(17) w,tensor(9) h,tensor(7) o,tensor(12) l,tensor(2) e,tensor(1)  ,tensor(17) w,tensor(7) o,tensor(10) r,tensor(12) l,tensor(11) d,tensor(1)  ,tensor(9) h,tensor(4) a,tensor(8) s,tensor(1)  ,tensor(18) g,tensor(7) o,tensor(6) n,tensor(2) e,tensor(1)  ,tensor(17) w,tensor(10) r,\n",
      "\n",
      "st wherethe whole world has gone wrtensor(7) o,tensor(22) v,tensor(2) e,tensor(1)  ,tensor(3) t,tensor(9) h,tensor(2) e,tensor(1)  ,tensor(2) e,tensor(4) a,tensor(10) r,tensor(3) t,tensor(9) h,tensor(1)  ,tensor(8) s,tensor(1)  ,tensor(8) s,tensor(14) u,tensor(10) r,tensor(16) f,tensor(4) a,tensor(15) c,tensor(2) e,tensor(21) b,tensor(14) u,tensor(3) t,tensor(1)  ,tensor(3) t,tensor(9) h,tensor(2) e,tensor(1)  ,tensor(18) g,tensor(10) r,tensor(2) e,tensor(4) a,\n",
      "\n",
      "ove the earth s surfacebut the greatensor(19) y,tensor(1)  ,tensor(5) i,tensor(1)  ,tensor(18) g,tensor(7) o,tensor(1)  ,tensor(21) b,tensor(4) a,tensor(15) c,tensor(23) k,tensor(1)  ,tensor(3) t,tensor(7) o,tensor(1)  ,tensor(3) t,tensor(9) h,tensor(2) e,tensor(1)  ,tensor(5) i,tensor(6) n,tensor(8) s,tensor(3) t,tensor(4) a,tensor(6) n,tensor(3) t,tensor(1)  ,tensor(7) o,tensor(16) f,tensor(1)  ,tensor(5) i,tensor(3) t,tensor(8) s,tensor(1)  ,tensor(7) o,\n",
      "\n",
      "y i go back to the instant of its otensor(4) a,tensor(6) n,tensor(1)  ,tensor(18) g,tensor(7) o,tensor(1)  ,tensor(14) u,tensor(20) p,tensor(1)  ,tensor(4) a,tensor(18) g,tensor(4) a,tensor(5) i,tensor(6) n,tensor(8) s,tensor(3) t,tensor(1)  ,tensor(18) g,tensor(10) r,tensor(4) a,tensor(22) v,tensor(5) i,tensor(3) t,tensor(4) a,tensor(3) t,tensor(5) i,tensor(7) o,tensor(6) n,tensor(1)  ,tensor(5) i,tensor(6) n,tensor(1)  ,tensor(4) a,tensor(1)  ,tensor(21) b,\n",
      "\n",
      "an go up against gravitation in a btensor(4) a,tensor(22) v,tensor(2) e,tensor(12) l,tensor(12) l,tensor(2) e,tensor(10) r,tensor(19) y,tensor(7) o,tensor(14) u,tensor(1)  ,tensor(15) c,tensor(4) a,tensor(6) n,tensor(1)  ,tensor(8) s,tensor(9) h,tensor(7) o,tensor(17) w,tensor(1)  ,tensor(21) b,tensor(12) l,tensor(4) a,tensor(15) c,tensor(23) k,tensor(1)  ,tensor(5) i,tensor(8) s,tensor(1)  ,tensor(17) w,tensor(9) h,tensor(5) i,tensor(3) t,tensor(2) e,tensor(1)  ,\n",
      "\n",
      "avelleryou can show black is white tensor(4) a,tensor(3) t,tensor(1)  ,tensor(8) s,tensor(9) h,tensor(4) a,tensor(12) l,tensor(12) l,tensor(1)  ,tensor(3) t,tensor(10) r,tensor(4) a,tensor(22) v,tensor(2) e,tensor(12) l,tensor(1)  ,tensor(5) i,tensor(6) n,tensor(11) d,tensor(5) i,tensor(16) f,tensor(16) f,tensor(2) e,tensor(10) r,tensor(2) e,tensor(6) n,tensor(3) t,tensor(12) l,tensor(19) y,tensor(1)  ,tensor(5) i,tensor(6) n,tensor(1)  ,tensor(4) a,tensor(6) n,\n",
      "\n",
      "at shall travel indifferently in antensor(14) u,tensor(6) n,tensor(3) t,tensor(1)  ,tensor(7) o,tensor(16) f,tensor(1)  ,tensor(3) t,tensor(9) h,tensor(2) e,tensor(1)  ,tensor(21) b,tensor(4) a,tensor(3) t,tensor(3) t,tensor(12) l,tensor(2) e,tensor(1)  ,tensor(7) o,tensor(16) f,tensor(1)  ,tensor(9) h,tensor(4) a,tensor(8) s,tensor(3) t,tensor(5) i,tensor(6) n,tensor(18) g,tensor(8) s,tensor(1)  ,tensor(16) f,tensor(7) o,tensor(10) r,tensor(1)  ,tensor(5) i,\n",
      "\n",
      "unt of the battle of hastings for itensor(9) h,tensor(2) e,tensor(1)  ,tensor(18) g,tensor(2) e,tensor(10) r,tensor(13) m,tensor(4) a,tensor(6) n,tensor(1)  ,tensor(8) s,tensor(15) c,tensor(9) h,tensor(7) o,tensor(12) l,tensor(4) a,tensor(10) r,tensor(8) s,tensor(1)  ,tensor(9) h,tensor(4) a,tensor(22) v,tensor(2) e,tensor(1)  ,tensor(5) i,tensor(13) m,tensor(20) p,tensor(10) r,tensor(7) o,tensor(22) v,tensor(2) e,tensor(11) d,tensor(1)  ,tensor(18) g,tensor(10) r,\n",
      "\n",
      "he german scholars have improved grtensor(18) g,tensor(5) i,tensor(8) s,tensor(3) t,tensor(19) y,tensor(2) e,tensor(8) s,tensor(1)  ,tensor(8) s,tensor(7) o,tensor(1)  ,tensor(5) i,tensor(3) t,tensor(1)  ,tensor(8) s,tensor(2) e,tensor(2) e,tensor(13) m,tensor(2) e,tensor(11) d,tensor(1)  ,tensor(3) t,tensor(7) o,tensor(1)  ,tensor(13) m,tensor(2) e,tensor(1)  ,tensor(4) a,tensor(6) n,tensor(11) d,tensor(1)  ,tensor(8) s,tensor(7) o,tensor(1)  ,tensor(5) i,\n",
      "\n",
      "gistyes so it seemed to me and so itensor(12) l,tensor(5) i,tensor(6) n,tensor(18) g,tensor(1)  ,tensor(16) f,tensor(4) a,tensor(5) i,tensor(6) n,tensor(3) t,tensor(12) l,tensor(19) y,tensor(4) a,tensor(6) n,tensor(11) d,tensor(1)  ,tensor(17) w,tensor(5) i,tensor(3) t,tensor(9) h,tensor(1)  ,tensor(9) h,tensor(5) i,tensor(8) s,tensor(1)  ,tensor(9) h,tensor(4) a,tensor(6) n,tensor(11) d,tensor(8) s,tensor(1)  ,tensor(11) d,tensor(2) e,tensor(2) e,tensor(20) p,\n",
      "\n",
      "ling faintlyand with his hands deeptensor(26) j,tensor(14) u,tensor(10) r,tensor(2) e,tensor(10) r,tensor(1)  ,tensor(9) h,tensor(2) e,tensor(1)  ,tensor(9) h,tensor(4) a,tensor(11) d,tensor(1)  ,tensor(8) s,tensor(2) e,tensor(2) e,tensor(6) n,tensor(1)  ,tensor(4) a,tensor(3) t,tensor(1)  ,tensor(21) b,tensor(14) u,tensor(10) r,tensor(8) s,tensor(12) l,tensor(2) e,tensor(13) m,tensor(1)  ,tensor(21) b,tensor(14) u,tensor(3) t,tensor(21) b,tensor(2) e,tensor(16) f,\n",
      "\n",
      "jurer he had seen at burslem butbeftensor(4) a,tensor(12) l,tensor(12) l,tensor(5) i,tensor(6) n,tensor(2) e,tensor(1)  ,tensor(8) s,tensor(14) u,tensor(21) b,tensor(8) s,tensor(3) t,tensor(4) a,tensor(6) n,tensor(15) c,tensor(2) e,tensor(1)  ,tensor(4) a,tensor(6) n,tensor(11) d,tensor(1)  ,tensor(6) n,tensor(7) o,tensor(17) w,tensor(1)  ,tensor(5) i,tensor(1)  ,tensor(13) m,tensor(14) u,tensor(8) s,tensor(3) t,tensor(1)  ,tensor(21) b,tensor(2) e,tensor(1)  ,\n",
      "\n",
      "alline substance and now i must be tensor(4) a,tensor(6) n,tensor(5) i,tensor(8) s,tensor(13) m,tensor(3) t,tensor(9) h,tensor(2) e,tensor(6) n,tensor(1)  ,tensor(9) h,tensor(2) e,tensor(1)  ,tensor(11) d,tensor(10) r,tensor(2) e,tensor(17) w,tensor(1)  ,tensor(14) u,tensor(20) p,tensor(1)  ,tensor(4) a,tensor(1)  ,tensor(15) c,tensor(9) h,tensor(4) a,tensor(5) i,tensor(10) r,tensor(1)  ,tensor(4) a,tensor(6) n,tensor(11) d,tensor(1)  ,tensor(8) s,tensor(4) a,\n",
      "\n",
      "anismthen he drew up a chair and sa"
     ]
    }
   ],
   "source": [
    "for X,y in train_iter:\n",
    "    for a in X:\n",
    "        for b in a:\n",
    "            print(b,vocab.idx_to_token[b],end=',')\n",
    "        print('\\n')\n",
    "        for b in a:\n",
    "            print(vocab.idx_to_token[b],end='')\n",
    "    break"
   ]
  },
  {
   "cell_type": "code",
   "execution_count": 1,
   "metadata": {},
   "outputs": [],
   "source": [
    "def fuc():\n",
    "    return 1"
   ]
  },
  {
   "cell_type": "code",
   "execution_count": 2,
   "metadata": {},
   "outputs": [
    {
     "name": "stdout",
     "output_type": "stream",
     "text": [
      "<function fuc at 0x0000018A75840940>\n",
      "<class 'function'>\n"
     ]
    },
    {
     "ename": "",
     "evalue": "",
     "output_type": "error",
     "traceback": [
      "\u001b[1;31m在当前单元格或上一个单元格中执行代码时 Kernel 崩溃。\n",
      "\u001b[1;31m请查看单元格中的代码，以确定故障的可能原因。\n",
      "\u001b[1;31m单击<a href='https://aka.ms/vscodeJupyterKernelCrash'>此处</a>了解详细信息。\n",
      "\u001b[1;31m有关更多详细信息，请查看 Jupyter <a href='command:jupyter.viewOutput'>log</a>。"
     ]
    }
   ],
   "source": [
    "print(fuc)\n",
    "print(type(fuc))"
   ]
  }
 ],
 "metadata": {
  "kernelspec": {
   "display_name": "pytorch",
   "language": "python",
   "name": "pytorch"
  },
  "language_info": {
   "codemirror_mode": {
    "name": "ipython",
    "version": 3
   },
   "file_extension": ".py",
   "mimetype": "text/x-python",
   "name": "python",
   "nbconvert_exporter": "python",
   "pygments_lexer": "ipython3",
   "version": "3.9.19"
  }
 },
 "nbformat": 4,
 "nbformat_minor": 2
}
