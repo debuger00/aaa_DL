{
 "cells": [
  {
   "cell_type": "code",
   "execution_count": 1,
   "metadata": {},
   "outputs": [],
   "source": [
    "%matplotlib inline\n",
    "import torch\n",
    "from torch import nn \n",
    "from d2l import torch as d2l"
   ]
  },
  {
   "cell_type": "markdown",
   "metadata": {},
   "source": [
    "$$\n",
    "y=5+1.2 x-3.4 \\frac{x^2}{2!}+5.6 \\frac{x^3}{3!}+\\epsilon \\text { where } \\epsilon \\sim \\mathcal{N}\\left(0,0.1^2\\right)\n",
    "$$"
   ]
  },
  {
   "cell_type": "code",
   "execution_count": 2,
   "metadata": {},
   "outputs": [],
   "source": [
    "n_train,n_test,num_inputs,batch_size = 20,100,200,5\n",
    "true_w,true_b = torch.ones((num_inputs,1))*0.01,0.05\n",
    "train_data = d2l.synthetic_data(true_w,true_b,n_train)#\"\"\"Generate y = Xw + b + noise.\"\"\"\n",
    "train_iter = d2l.load_array(train_data,batch_size)\n",
    "test_data = d2l.synthetic_data(true_w,true_b,n_test)\n",
    "test_iter = d2l.load_array(test_data,batch_size,is_train=False)\n"
   ]
  },
  {
   "cell_type": "code",
   "execution_count": 3,
   "metadata": {},
   "outputs": [
    {
     "ename": "",
     "evalue": "",
     "output_type": "error",
     "traceback": [
      "\u001b[1;31mThe Kernel crashed while executing code in the the current cell or a previous cell. Please review the code in the cell(s) to identify a possible cause of the failure. Click <a href='https://aka.ms/vscodeJupyterKernelCrash'>here</a> for more info. View Jupyter <a href='command:jupyter.viewOutput'>log</a> for further details."
     ]
    }
   ],
   "source": [
    "def init_params():\n",
    "    w = torch.normal(0,1,size=(num_inputs,1),requires_grad=True)\n",
    "    b = torch.zeros(1,requires_grad=True)\n",
    "    return [w,b]"
   ]
  },
  {
   "cell_type": "code",
   "execution_count": null,
   "metadata": {},
   "outputs": [],
   "source": [
    "# 定义L2范数惩罚\n",
    "def l2_penalty(w):\n",
    "    return torch.sum(w.pow(2))/2"
   ]
  },
  {
   "cell_type": "code",
   "execution_count": null,
   "metadata": {},
   "outputs": [],
   "source": [
    "def train(lambd):\n",
    "    w,b = init_params()\n",
    "    net,loss = lambda x:d2l.linreg(X,w,b) ,d2l.squared_loss\n",
    "    num_epochs,lr = 100,0.003\n",
    "    \n",
    "    for epoch in range(num_epochs):\n",
    "        for X,y in train_iter:\n",
    "            # 增加了L2范数惩罚项\n",
    "            # 广播机制使l2_penalty(w)成为一个长度为batch_size的向量\n",
    "            l = loss(net(X),y)+ lambd*l2_penalty(w)\n",
    "            l.sum().backword()\n",
    "            d2l.sgd([w,b],lr,batch_size)\n",
    "        if(epoch+1)%5 == 0:\n",
    "            animator.add(epoch+1,(d2l.evaluate_loss(net,train_iter,loss),d2l.evaluate_loss(net,test_iter,loss)))"
   ]
  }
 ],
 "metadata": {
  "kernelspec": {
   "display_name": "Python 3.9.19 ('pytorch')",
   "language": "python",
   "name": "python3"
  },
  "language_info": {
   "codemirror_mode": {
    "name": "ipython",
    "version": 3
   },
   "file_extension": ".py",
   "mimetype": "text/x-python",
   "name": "python",
   "nbconvert_exporter": "python",
   "pygments_lexer": "ipython3",
   "version": "3.9.19"
  },
  "orig_nbformat": 4,
  "vscode": {
   "interpreter": {
    "hash": "9ebf9cfd872009544a161647ac82c48f4cc096aba58631b69e515c7576d66293"
   }
  }
 },
 "nbformat": 4,
 "nbformat_minor": 2
}
